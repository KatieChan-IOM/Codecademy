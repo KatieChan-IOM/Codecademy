{
 "cells": [
  {
   "cell_type": "code",
   "execution_count": 1,
   "metadata": {},
   "outputs": [],
   "source": [
    "import pandas as pd"
   ]
  },
  {
   "cell_type": "code",
   "execution_count": 2,
   "metadata": {},
   "outputs": [
    {
     "name": "stdout",
     "output_type": "stream",
     "text": [
      "   Product ID Product Name  Color\n",
      "0           1      t-shirt   blue\n",
      "1           2      t-shirt  green\n",
      "2           3        skirt    red\n",
      "3           4        skirt  black\n"
     ]
    }
   ],
   "source": [
    "df1 = pd.DataFrame({\n",
    "    'Product ID': [1, 2, 3, 4],\n",
    "    'Product Name': ['t-shirt', 't-shirt', 'skirt', 'skirt'],\n",
    "    'Color': ['blue', 'green', 'red', 'black']\n",
    "    })\n",
    "print(df1)"
   ]
  },
  {
   "cell_type": "code",
   "execution_count": 3,
   "metadata": {},
   "outputs": [
    {
     "name": "stdout",
     "output_type": "stream",
     "text": [
      "   Store ID       Location  Number of Employees\n",
      "0         1      San Diego                  100\n",
      "1         2    Los Angeles                  120\n",
      "2         3  San Francisco                   90\n",
      "3         4     Sacramento                  115\n"
     ]
    }
   ],
   "source": [
    "df2 = pd.DataFrame([\n",
    "    [1, 'San Diego', 100],\n",
    "    [2, 'Los Angeles', 120],\n",
    "    [3, 'San Francisco', 90],\n",
    "    [4, 'Sacramento', 115]\n",
    "],\n",
    "    columns=[\n",
    "    'Store ID', 'Location', 'Number of Employees'\n",
    "    ])\n",
    "\n",
    "print(df2)"
   ]
  },
  {
   "cell_type": "code",
   "execution_count": 4,
   "metadata": {},
   "outputs": [
    {
     "name": "stdout",
     "output_type": "stream",
     "text": [
      "      id                                       name   genre  year  imdb_rating\n",
      "0      1                                     Avatar  action  2009          7.9\n",
      "1      2                             Jurassic World  action  2015          7.3\n",
      "2      3                               The Avengers  action  2012          8.1\n",
      "3      4                            The Dark Knight  action  2008          9.0\n",
      "4      5  Star Wars: Episode I - The Phantom Menace  action  1999          6.6\n",
      "..   ...                                        ...     ...   ...          ...\n",
      "215  216                                   Hannibal   drama  2001          6.7\n",
      "216  217                        Catch Me If You Can   drama  2002          8.0\n",
      "217  218                                  Big Daddy   drama  1999          6.4\n",
      "218  219                                      Se7en   drama  1995          8.6\n",
      "219  220                                      Seven   drama  1979          6.1\n",
      "\n",
      "[220 rows x 5 columns]\n"
     ]
    }
   ],
   "source": [
    "df = pd.read_csv('Data/imdb.csv')\n",
    "print(df)"
   ]
  },
  {
   "cell_type": "code",
   "execution_count": 5,
   "metadata": {},
   "outputs": [
    {
     "name": "stdout",
     "output_type": "stream",
     "text": [
      "   id                                       name   genre  year  imdb_rating\n",
      "0   1                                     Avatar  action  2009          7.9\n",
      "1   2                             Jurassic World  action  2015          7.3\n",
      "2   3                               The Avengers  action  2012          8.1\n",
      "3   4                            The Dark Knight  action  2008          9.0\n",
      "4   5  Star Wars: Episode I - The Phantom Menace  action  1999          6.6\n"
     ]
    }
   ],
   "source": [
    "print(df.head())"
   ]
  },
  {
   "cell_type": "code",
   "execution_count": 6,
   "metadata": {},
   "outputs": [
    {
     "name": "stdout",
     "output_type": "stream",
     "text": [
      "<class 'pandas.core.frame.DataFrame'>\n",
      "RangeIndex: 220 entries, 0 to 219\n",
      "Data columns (total 5 columns):\n",
      " #   Column       Non-Null Count  Dtype  \n",
      "---  ------       --------------  -----  \n",
      " 0   id           220 non-null    int64  \n",
      " 1   name         220 non-null    object \n",
      " 2   genre        220 non-null    object \n",
      " 3   year         220 non-null    int64  \n",
      " 4   imdb_rating  220 non-null    float64\n",
      "dtypes: float64(1), int64(2), object(2)\n",
      "memory usage: 8.7+ KB\n",
      "None\n"
     ]
    }
   ],
   "source": [
    "print(df.info())"
   ]
  },
  {
   "cell_type": "code",
   "execution_count": 10,
   "metadata": {},
   "outputs": [
    {
     "name": "stdout",
     "output_type": "stream",
     "text": [
      "      month  clinic_east  clinic_north  clinic_south  clinic_west\n",
      "0   January          100           100            23          100\n",
      "1  February           51            45           145           45\n",
      "2     March           81            96            65           96\n",
      "3     April           80            80            54          180\n",
      "4       May           51            54            54          154\n",
      "5      June          112           109            79          129\n"
     ]
    }
   ],
   "source": [
    "df = pd.DataFrame([\n",
    "    ['January', 100, 100, 23, 100],\n",
    "    ['February', 51, 45, 145, 45],\n",
    "    ['March', 81, 96, 65, 96],\n",
    "    ['April', 80, 80, 54, 180],\n",
    "    ['May', 51, 54, 54, 154],\n",
    "    ['June', 112, 109, 79, 129]],\n",
    "    columns=['month', 'clinic_east',\n",
    "            'clinic_north', 'clinic_south',\n",
    "            'clinic_west']\n",
    ")\n",
    "print(df)"
   ]
  },
  {
   "cell_type": "code",
   "execution_count": 8,
   "metadata": {},
   "outputs": [
    {
     "name": "stdout",
     "output_type": "stream",
     "text": [
      "0    100\n",
      "1     45\n",
      "2     96\n",
      "3     80\n",
      "4     54\n",
      "5    109\n",
      "Name: clinic_north, dtype: int64\n",
      "<class 'pandas.core.series.Series'>\n",
      "<class 'pandas.core.frame.DataFrame'>\n"
     ]
    }
   ],
   "source": [
    "clinic_north = df['clinic_north']\n",
    "print(clinic_north)\n",
    "print(type(clinic_north))\n",
    "print(type(df))"
   ]
  },
  {
   "cell_type": "code",
   "execution_count": 11,
   "metadata": {},
   "outputs": [
    {
     "name": "stdout",
     "output_type": "stream",
     "text": [
      "   clinic_north  clinic_south\n",
      "0           100            23\n",
      "1            45           145\n",
      "2            96            65\n",
      "3            80            54\n",
      "4            54            54\n",
      "5           109            79\n",
      "<class 'pandas.core.frame.DataFrame'>\n"
     ]
    }
   ],
   "source": [
    "clinic_north_south = df[['clinic_north', 'clinic_south']]\n",
    "print(clinic_north_south)\n",
    "print(type(clinic_north_south))"
   ]
  },
  {
   "cell_type": "code",
   "execution_count": 12,
   "metadata": {},
   "outputs": [
    {
     "name": "stdout",
     "output_type": "stream",
     "text": [
      "month           March\n",
      "clinic_east        81\n",
      "clinic_north       96\n",
      "clinic_south       65\n",
      "clinic_west        96\n",
      "Name: 2, dtype: object\n"
     ]
    }
   ],
   "source": [
    "march = df.iloc[2]\n",
    "print(march)"
   ]
  },
  {
   "cell_type": "code",
   "execution_count": null,
   "metadata": {},
   "outputs": [],
   "source": []
  }
 ],
 "metadata": {
  "interpreter": {
   "hash": "380492b12bc5ecc7942b2e9f39355d07a9105b10769c4eeae352bf11b3ec7a34"
  },
  "kernelspec": {
   "display_name": "Python 3.8.10 64-bit ('.venv': venv)",
   "language": "python",
   "name": "python3"
  },
  "language_info": {
   "codemirror_mode": {
    "name": "ipython",
    "version": 3
   },
   "file_extension": ".py",
   "mimetype": "text/x-python",
   "name": "python",
   "nbconvert_exporter": "python",
   "pygments_lexer": "ipython3",
   "version": "3.8.10"
  },
  "orig_nbformat": 4
 },
 "nbformat": 4,
 "nbformat_minor": 2
}
